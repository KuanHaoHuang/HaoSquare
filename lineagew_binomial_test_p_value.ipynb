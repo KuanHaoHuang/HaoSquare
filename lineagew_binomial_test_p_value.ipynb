{
  "nbformat": 4,
  "nbformat_minor": 0,
  "metadata": {
    "colab": {
      "name": "lineagew_binomial_test_p_value.ipynb",
      "provenance": []
    },
    "kernelspec": {
      "name": "python3",
      "display_name": "Python 3"
    },
    "language_info": {
      "name": "python"
    }
  },
  "cells": [
    {
      "cell_type": "markdown",
      "source": [
        "# 從丁特抽紫布事件，學習二項式檢定與 P-value 解讀\n",
        "* [部落格文章圖文解說](https://haosquare.com/lineagem-binomial-test-p-value/)\n",
        "* 原事件內容是製作寶物，以下程式註解以「抽獎」與「中獎」代稱"
      ],
      "metadata": {
        "id": "iqimRjk9Z9uw"
      }
    },
    {
      "cell_type": "code",
      "execution_count": 1,
      "metadata": {
        "id": "eLIsZuorDmoj"
      },
      "outputs": [],
      "source": [
        "import random\n",
        "import numpy as np\n",
        "from scipy.special import comb\n",
        "from scipy.stats import binom, binom_test\n",
        "import pandas as pd\n",
        "from plotnine import ggplot, aes, geom_bar, geom_vline, geom_col, scale_y_sqrt"
      ]
    },
    {
      "cell_type": "code",
      "source": [
        "repeat_times = 5000000  # 任意設定的某個大數字\n",
        "sample_size = 475       # 丁特抽了 475 次\n",
        "sample_success = 11     # 丁特實際上中獎 11 次\n",
        "prob = 0.1              # 母體機率，遊戲公司宣稱的中獎機率"
      ],
      "metadata": {
        "id": "LI6aRuILE_6P"
      },
      "execution_count": 2,
      "outputs": []
    },
    {
      "cell_type": "code",
      "source": [
        "# 玩玩看: np.random.binomial()\n",
        "np.random.binomial(n=475, p=0.1, size=15)"
      ],
      "metadata": {
        "colab": {
          "base_uri": "https://localhost:8080/"
        },
        "id": "9Gu_C_FRHEue",
        "outputId": "e9e93be7-6693-4d4f-9b19-b61849c1bbc3"
      },
      "execution_count": 3,
      "outputs": [
        {
          "output_type": "execute_result",
          "data": {
            "text/plain": [
              "array([43, 52, 42, 45, 48, 53, 37, 45, 46, 52, 47, 40, 54, 48, 47])"
            ]
          },
          "metadata": {},
          "execution_count": 3
        }
      ]
    },
    {
      "cell_type": "code",
      "source": [
        "# 抽獎模擬\n",
        "np.random.seed(42)\n",
        "simulation = np.random.binomial(n=sample_size, p=prob, size=repeat_times)\n",
        "(ggplot(pd.DataFrame({'simulation': simulation}))\n",
        "    + geom_bar(aes(x='simulation'))\n",
        "    + geom_vline(xintercept=sample_success, color='red', linetype='dashed')\n",
        ")"
      ],
      "metadata": {
        "colab": {
          "base_uri": "https://localhost:8080/",
          "height": 465
        },
        "id": "uMNKez99In1p",
        "outputId": "0f68ca66-236b-4d2b-855e-7f1d5618edd2"
      },
      "execution_count": 4,
      "outputs": [
        {
          "output_type": "display_data",
          "data": {
            "image/png": "[encoded data removed]",
            "text/plain": [
              "<Figure size 640x480 with 1 Axes>"
            ]
          },
          "metadata": {}
        },
        {
          "output_type": "execute_result",
          "data": {
            "text/plain": [
              "<ggplot: (8750749835785)>"
            ]
          },
          "metadata": {},
          "execution_count": 4
        }
      ]
    },
    {
      "cell_type": "code",
      "source": [
        "print(f'模擬 {repeat_times} 次，其中有 {sum(simulation <= sample_success)} 次試驗成功次數 <= {sample_success}')"
      ],
      "metadata": {
        "colab": {
          "base_uri": "https://localhost:8080/"
        },
        "id": "0CTHUfAOimTS",
        "outputId": "01afe7ed-f6d4-41eb-ddab-fdaa97fb8a60"
      },
      "execution_count": 5,
      "outputs": [
        {
          "output_type": "stream",
          "name": "stdout",
          "text": [
            "模擬 5000000 次，其中有 0 次試驗成功次數 <= 11\n"
          ]
        }
      ]
    },
    {
      "cell_type": "code",
      "source": [
        "# 玩玩看：scipy.special.comb()\n",
        "comb(N=5, k=2, exact=True) # C 5 取 2"
      ],
      "metadata": {
        "colab": {
          "base_uri": "https://localhost:8080/"
        },
        "id": "PwvXSGphMN0S",
        "outputId": "82b7e96e-4059-4121-d7ee-f2a414804eab"
      },
      "execution_count": 6,
      "outputs": [
        {
          "output_type": "execute_result",
          "data": {
            "text/plain": [
              "10"
            ]
          },
          "metadata": {},
          "execution_count": 6
        }
      ]
    },
    {
      "cell_type": "code",
      "source": [
        "# 玩玩看：scipy.stats.binom\n",
        "print(f\"{binom.pmf(k=[11], n=475, p=0.1)[0]:.20f}\") # 丁特抽紫布事件的發生率\n",
        "binom.pmf(k=[11, 47], n=475, p=0.1) # 成功次數分別為 11, 47，得到各自的 PMF"
      ],
      "metadata": {
        "colab": {
          "base_uri": "https://localhost:8080/"
        },
        "id": "spBwmFGiPv0A",
        "outputId": "242cfa29-baef-4150-f7aa-72b63c86eda3"
      },
      "execution_count": 7,
      "outputs": [
        {
          "output_type": "stream",
          "name": "stdout",
          "text": [
            "0.00000000003633598717\n"
          ]
        },
        {
          "output_type": "execute_result",
          "data": {
            "text/plain": [
              "array([3.63359872e-11, 6.10146083e-02])"
            ]
          },
          "metadata": {},
          "execution_count": 7
        }
      ]
    },
    {
      "cell_type": "code",
      "source": [
        "# 以下數字加總，就是二項式檢定的 P-value\n",
        "for i in binom.pmf(k=list(range(12)), n=475, p=0.1):\n",
        "  print(f\"{i:.20f}\")"
      ],
      "metadata": {
        "colab": {
          "base_uri": "https://localhost:8080/"
        },
        "id": "oP4Ad_QbJ4_f",
        "outputId": "f2a61c09-4990-4cbe-ec52-8c5767a1437e"
      },
      "execution_count": 8,
      "outputs": [
        {
          "output_type": "stream",
          "name": "stdout",
          "text": [
            "0.00000000000000000000\n",
            "0.00000000000000000001\n",
            "0.00000000000000000026\n",
            "0.00000000000000000448\n",
            "0.00000000000000005879\n",
            "0.00000000000000061531\n",
            "0.00000000000000535548\n",
            "0.00000000000003986856\n",
            "0.00000000000025914566\n",
            "0.00000000000149408669\n",
            "0.00000000000773604888\n",
            "0.00000000003633598717\n"
          ]
        }
      ]
    },
    {
      "cell_type": "code",
      "source": [
        "# 二項式檢定的 P-value 視覺化\n",
        "(ggplot(pd.DataFrame({'pmf': binom.pmf(k=list(range(100)), n=475, p=0.1), 'i': range(100)}))\n",
        "    + geom_col(aes(x='i', y='pmf'))\n",
        "    + geom_vline(xintercept=sample_success, color='red', linetype='dashed')\n",
        "    + scale_y_sqrt()\n",
        ")"
      ],
      "metadata": {
        "colab": {
          "base_uri": "https://localhost:8080/",
          "height": 556
        },
        "id": "355h1x1ERhhC",
        "outputId": "8c43185e-3ee8-4430-c036-77ad05187063"
      },
      "execution_count": 9,
      "outputs": [
        {
          "output_type": "stream",
          "name": "stderr",
          "text": [
            "/usr/local/lib/python3.7/dist-packages/plotnine/scales/scale.py:611: PlotnineWarning: You have changed the transform of a specialised scale. The result may not be what you expect.\n",
            "Original transform: sqrt\n",
            "New transform: sq\n",
            "  PlotnineWarning\n"
          ]
        },
        {
          "output_type": "display_data",
          "data": {
            "image/png": "[encoded data removed]",
            "text/plain": [
              "<Figure size 640x480 with 1 Axes>"
            ]
          },
          "metadata": {}
        },
        {
          "output_type": "execute_result",
          "data": {
            "text/plain": [
              "<ggplot: (8750740522453)>"
            ]
          },
          "metadata": {},
          "execution_count": 9
        }
      ]
    },
    {
      "cell_type": "code",
      "source": [
        "# 手動計算二項式分佈機率質量函數公式\n",
        "def my_binom_pmf(k, n, p):\n",
        "    return comb(N=n, k=k, exact=True)*(p**k)*((1-p)**(n-k))"
      ],
      "metadata": {
        "id": "Ol9wfkZNQ63r"
      },
      "execution_count": 10,
      "outputs": []
    },
    {
      "cell_type": "code",
      "source": [
        "# 玩玩看：自己寫的二項式分佈 PMF\n",
        "print(my_binom_pmf(11, 475, 0.1))\n",
        "print(my_binom_pmf(47, 475, 0.1))"
      ],
      "metadata": {
        "colab": {
          "base_uri": "https://localhost:8080/"
        },
        "id": "3zMj3KuwRYrY",
        "outputId": "2ec92171-0f2d-4ff9-9c0c-5f90c7198d80"
      },
      "execution_count": 11,
      "outputs": [
        {
          "output_type": "stream",
          "name": "stdout",
          "text": [
            "3.633598716609506e-11\n",
            "0.061014608286806285\n"
          ]
        }
      ]
    },
    {
      "cell_type": "code",
      "source": [
        "# 檢查：自己寫的二項式分佈 PMF 函式應該要跟 scipy.stats.binom 結果相同\n",
        "for i in range(46, 49):\n",
        "    print(f\"成功次數: {i}\")\n",
        "    print(f\"binom.pmf:     {binom.pmf(i, sample_size, prob):.4f}\")\n",
        "    print(f\"my_binom_pmf:  {my_binom_pmf(k=i, n=sample_size, p=prob):.4f}\\n\")"
      ],
      "metadata": {
        "colab": {
          "base_uri": "https://localhost:8080/"
        },
        "id": "m7Y7MC33SROT",
        "outputId": "06b4f0f1-7083-41d6-82c7-d684b89b8586"
      },
      "execution_count": 12,
      "outputs": [
        {
          "output_type": "stream",
          "name": "stdout",
          "text": [
            "成功次數: 46\n",
            "binom.pmf:     0.0602\n",
            "my_binom_pmf:  0.0602\n",
            "\n",
            "成功次數: 47\n",
            "binom.pmf:     0.0610\n",
            "my_binom_pmf:  0.0610\n",
            "\n",
            "成功次數: 48\n",
            "binom.pmf:     0.0604\n",
            "my_binom_pmf:  0.0604\n",
            "\n"
          ]
        }
      ]
    },
    {
      "cell_type": "code",
      "source": [
        "# P-value 三種算法，確認結果相同\n",
        "print(f\"{sum(binom.pmf(k=list(range(12)), n=475, p=0.1)):.20f}\")\n",
        "print(f\"{sum([my_binom_pmf(k=i, n=sample_size, p=prob) for i in range(12)]):.20f}\")\n",
        "print(f\"{binom_test(x=11, n=475, p=0.1, alternative='less'):.20f}\") # scipy 內的二項式檢定函式"
      ],
      "metadata": {
        "colab": {
          "base_uri": "https://localhost:8080/"
        },
        "id": "gbqDSbipTLwz",
        "outputId": "2d3bff75-6f7f-44d3-b99e-1e02a522a443"
      },
      "execution_count": 13,
      "outputs": [
        {
          "output_type": "stream",
          "name": "stdout",
          "text": [
            "0.00000000004587117129\n",
            "0.00000000004587117129\n",
            "0.00000000004587117129\n"
          ]
        }
      ]
    }
  ]
}